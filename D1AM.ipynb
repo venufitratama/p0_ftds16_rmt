Non-Graded Challenge	16
Graded Challenge		3		25%		2-3 Hari
Live Code			3		35%		2,5 Jam
Milestone			1		40%

EE	-	Engineering Empathy		-	Layanan Konselor


Google, Stack Overflow

Data Analyst		- Membuat rangkuman data dahulu hingga saat ini
Data Scientist		- Seperti data analyst, hanya saja dapat prediksi future event

Fase 0
Matematika		-	Vector
				Matrix
				Lineaar Algebra
				Eigen Vector & Elgen Value
				Analytics Geometry
				Calculus
				Probability
				Statistics

Python			-	Python Data types
				Conditional
				Looping
				Function
				Pandas
				Matplotlib/Seaaborn
				SQL

