Git
GitHub
GitHub Desktop

Apakah github di mac sama dgn terminal?
bagaimana mmengetahui remote di terminal sedang dijalankan?

Basic Commands:
echo is a command to write a text or string, example: echo "Hello hacktiv8" . If you want to add text to the file : echo "Hello, my name is sardi" >> name.txt .
pwd (print working directory) is a command to find the path of the directory (folder) you are currently using.
cd to call a directory or path. example: cd /home/username/sardi/hacktiv8 . If you want to move to the root directory, you can type the command: cd ~. If you want to go to the parent directory of hacktiv8 by typing: cd .. , then you will be in the path /home/username/sardi/.
ls is the basic command used to view the contents of a directory.
mkdir is the command that works to create a new directory. example: mkdir name_directory
