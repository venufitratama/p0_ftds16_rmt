Varchar (Variable Character)


-- Membuat table (https://sqliteonline.com/)

CREATE TABLE Item(
	ID int AUTO_INCREMENT NOT NULL,
    Item_Name varchar(20) NOT NULL,
  	Item_Desc varchar(50),
  	Item_Price Numeric,
  	Created_Date Date,
    PRIMARY KEY (ID)
);

-- Insert value
INSERT INTO Item (ID, Item_Name, Item_Desc, Item_Price, Created_Date)
VALUE (1,'TARO 200 g','',15000,'2022-10-03'); -- karna null ,'', boleh dihapus

INSERT INTO Item (Item_Name, Item_Desc, Item_Price, Created_Date)
VALUE ('TARO 100 g','',10000,'2022-10-03');

INSERT INTO Item (Item_Name, Item_Desc, Item_Price, Created_Date)
VALUE 
('Chitato 200 g','',20000,'2022-10-03'),
('Chitato 100 g','',10000,'2022-10-03'),
('Chitato 200 g','',20000,'2022-10-03'),
('Chitato 100 g','',10000,'2022-10-03')

-- Melihat isi table
SELECT * FROM Item

-- Melihat beberapa kolom isi table
SELECT
Item_Name AS NAMA,
Item_Price AS HARGA
FROM Item

-- Mengeksekusi Double (Distinct), Hanya Memunculkan Nama dan Harga, Dan Ascending dari Harga
SELECT DISTINCT
Item_Name AS NAMA,
Item_Price AS HARGA
FROM Item
ORDER BY Item_Price DESC	--	Menyusun;
WHERE Item_Price 10000	- -	Hanya Memunculkan Item 10000;
WHERE Item_Price>10000	- -	Hanya Memunculkan Item > 10000;
WHERE Item_Name ‘Taro 100g ‘	- -	Hanya Memunculkan Item 10000

- Mengeksekusi Double (Distinct), Hanya Memunculkan Nama dan Harga, Dan Ascending dari Harga
SELECT DISTINCT
Item_Name AS NAMA,
Item_Price AS HARGA
FROM Item
ORDER BY Item_Price DESC
WHERE Item_Price BETWEEN 15000 AND 10000
AND Item_Name NOT LIKE 'TARO 200 g'

SELECT DISTINCT
Item_Name AS NAMA,
Item_Price AS HARGA
FROM Item
ORDER BY Item_Price DESC
WHERE Item_Price BETWEEN 15000 AND 10000
OR Item_Name NOT LIKE 'TARO 200 g'


GOOGLE CONSOLE CLOUD
select *
from `bigquery-public-data.crypto_bitcoin.blocks` a
left join `bigquery-public-data.crypto_bitcoin_cash.blocks` b
on a.size = b.size
limit 10

select *
from `bigquery-public-data.crypto_bitcoin.blocks` a
full outer join `bigquery-public-data.crypto_bitcoin_cash.blocks` b
on a.size = b.size
limit 10

